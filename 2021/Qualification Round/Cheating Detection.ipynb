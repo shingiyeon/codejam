{
 "metadata": {
  "language_info": {
   "codemirror_mode": {
    "name": "ipython",
    "version": 3
   },
   "file_extension": ".py",
   "mimetype": "text/x-python",
   "name": "python",
   "nbconvert_exporter": "python",
   "pygments_lexer": "ipython3",
   "version": "3.7.1-final"
  },
  "orig_nbformat": 2,
  "kernelspec": {
   "name": "python3",
   "display_name": "Python 3.7.1 64-bit (conda)",
   "metadata": {
    "interpreter": {
     "hash": "02da3054402206d1fcf19d447f22c920e8f951771788d461d1db44814fa71a3e"
    }
   }
  }
 },
 "nbformat": 4,
 "nbformat_minor": 2,
 "cells": [
  {
   "cell_type": "code",
   "execution_count": 209,
   "metadata": {},
   "outputs": [],
   "source": [
    "import os\n",
    "import random\n",
    "import math"
   ]
  },
  {
   "cell_type": "code",
   "execution_count": 210,
   "metadata": {},
   "outputs": [],
   "source": [
    "def sigmoid_function(x):\n",
    "    return 1 / (1 + math.exp(-x))"
   ]
  },
  {
   "cell_type": "code",
   "execution_count": 211,
   "metadata": {},
   "outputs": [],
   "source": [
    "def create_data():\n",
    "    datas = []\n",
    "\n",
    "    for i in range(1, 100):\n",
    "        string = \"\"\n",
    "        S = random.uniform(-3.0, 3.0)\n",
    "        for j in range(0, 10000):    \n",
    "            f = sigmoid_function(S - Q[j])\n",
    "            prob = random.uniform(0, 1.0)\n",
    "            if prob <= f:\n",
    "                string += \"1\"\n",
    "            else:\n",
    "                string += \"0\"\n",
    "        datas.append((string, False))\n",
    "\n",
    "    string = \"\"\n",
    "    for j in range(0, 10000):\n",
    "        prob = random.uniform(0, 1.0)\n",
    "        S = random.uniform(-3.0, 3.0)\n",
    "        if prob <= 0.5:\n",
    "            string += \"1\"\n",
    "        else:\n",
    "            f = sigmoid_function(S - Q[j])\n",
    "            prob2 = random.uniform(0, 1.0)\n",
    "            if prob2 <= f:\n",
    "                string += \"1\"\n",
    "            else:\n",
    "                string += \"0\"\n",
    "\n",
    "    datas.append((string, True))\n",
    "    random.shuffle(datas)\n",
    "    return datas\n"
   ]
  },
  {
   "cell_type": "code",
   "execution_count": null,
   "metadata": {},
   "outputs": [],
   "source": [
    "def strategy(datas):\n",
    "    num = 0\n",
    "    dic = {}\n",
    "    for i in range(0, 10000): \n",
    "        cnt_zero = 0\n",
    "        cnt_one = 0\n",
    "        idxs = []\n",
    "        for j in range(0, 100):\n",
    "            if datas[j][i] == 1:\n",
    "                cnt_one += 1\n",
    "                idxs.append(j)\n",
    "            else:\n",
    "                cnt_zero += 1\n",
    "        \n",
    "        if cnt_zero > cnt_one:\n",
    "            num += 1\n",
    "            for idx in idxs:\n",
    "                dic[idx] += 1\n",
    "    \n",
    "\n"
   ]
  },
  {
   "cell_type": "code",
   "execution_count": 212,
   "metadata": {},
   "outputs": [],
   "source": [
    "def count_num(data):\n",
    "    cnt_one = 0\n",
    "    cnt_zero = 0\n",
    "    for i in data:\n",
    "        if i == \"1\":\n",
    "            cnt_one += 1\n",
    "        else:\n",
    "            cnt_zero += 1\n",
    "    return (cnt_one, cnt_zero)"
   ]
  },
  {
   "cell_type": "code",
   "execution_count": 213,
   "metadata": {},
   "outputs": [],
   "source": [
    "def MLE(cnts):\n",
    "    return (cnts[0]) / (cnts[0] + cnts[1])"
   ]
  },
  {
   "cell_type": "code",
   "execution_count": 214,
   "metadata": {},
   "outputs": [],
   "source": [
    "def MAP(cnts, alpha, beta):\n",
    "    return (cnts[0] + alpha - 1) / (cnts[0] + cnts[1] + alpha + beta - 2)"
   ]
  },
  {
   "cell_type": "code",
   "execution_count": 215,
   "metadata": {},
   "outputs": [],
   "source": [
    "def make_infos(datas, alpha_beta_list):\n",
    "    infos = []\n",
    "\n",
    "    info = []\n",
    "    for data in datas:\n",
    "        info.append(MLE(count_num(data[0])))\n",
    "    infos.append(info)\n",
    "\n",
    "    for ab in alpha_beta_list:\n",
    "        alpha = ab[0]\n",
    "        beta = ab[1]\n",
    "        info = []\n",
    "        for data in datas:\n",
    "            info.append(MAP(count_num(data[0]), alpha, beta))\n",
    "        infos.append(info)\n",
    "    return infos"
   ]
  },
  {
   "cell_type": "code",
   "execution_count": 216,
   "metadata": {},
   "outputs": [],
   "source": [
    "def loss_function(infos):\n",
    "    # prob = random.uniform(-6.0, 6.0)\n",
    "    # f = sigmoid_function(prob)\n",
    "\n",
    "    sums = [0.0] * 100\n",
    "    for info in infos:\n",
    "        for i, val in enumerate(info):\n",
    "            sums[i] += (val - (0.75) ) ** 2\n",
    "    return sums"
   ]
  },
  {
   "cell_type": "code",
   "execution_count": 217,
   "metadata": {},
   "outputs": [],
   "source": [
    "def find_min_idx(losses):\n",
    "    min_val = 999999999\n",
    "    min_idx = -1\n",
    "    for i in range(0, 100):\n",
    "        if losses[i] < min_val:\n",
    "            min_val = losses[i]\n",
    "            min_idx = i\n",
    "    return min_idx"
   ]
  },
  {
   "cell_type": "code",
   "execution_count": 218,
   "metadata": {},
   "outputs": [],
   "source": [
    "alpha_beta_list = [(0.1, 0.1), (0.5, 0.5), (1.0, 1.0), (2.0, 2.0), (5.0, 5.0)]\n",
    "success = 0\n",
    "fail = 0\n",
    "for i in range(0, 50):\n",
    "    datas = create_data()\n",
    "    infos = make_infos(datas, alpha_beta_list)\n",
    "    losses = loss_function(infos)\n",
    "    idx = find_min_idx(losses)\n",
    "\n",
    "    if datas[idx][1] == True:\n",
    "        success += 1\n",
    "    else:\n",
    "        fail += 1\n"
   ]
  },
  {
   "cell_type": "code",
   "execution_count": 220,
   "metadata": {},
   "outputs": [
    {
     "output_type": "execute_result",
     "data": {
      "text/plain": [
       "46"
      ]
     },
     "metadata": {},
     "execution_count": 220
    }
   ],
   "source": [
    "success * 2"
   ]
  },
  {
   "cell_type": "code",
   "execution_count": 221,
   "metadata": {},
   "outputs": [
    {
     "output_type": "stream",
     "name": "stdout",
     "text": [
      "66\n(7515, 2485)\nTrue\n"
     ]
    }
   ],
   "source": [
    "print(idx)\n",
    "print( count_num(datas[idx][0]) )\n",
    "print( datas[idx][1] )"
   ]
  },
  {
   "cell_type": "code",
   "execution_count": 222,
   "metadata": {},
   "outputs": [
    {
     "output_type": "error",
     "ename": "SyntaxError",
     "evalue": "invalid syntax (<ipython-input-222-907c5f4b31c3>, line 1)",
     "traceback": [
      "\u001b[1;36m  File \u001b[1;32m\"<ipython-input-222-907c5f4b31c3>\"\u001b[1;36m, line \u001b[1;32m1\u001b[0m\n\u001b[1;33m    mle + map (0.1, 0.1), (0.5, 0.5), (1.0, 1.0), (2.0, 2.0), (5.0, 5.0) -> 68\u001b[0m\n\u001b[1;37m                                                                          ^\u001b[0m\n\u001b[1;31mSyntaxError\u001b[0m\u001b[1;31m:\u001b[0m invalid syntax\n"
     ]
    }
   ],
   "source": [
    "mle + map (0.1, 0.1), (0.5, 0.5), (1.0, 1.0), (2.0, 2.0), (5.0, 5.0) -> 68\n",
    "mle -> 54\n",
    "map (0.1, 0.1), (0.5, 0.5), (1.0, 1.0), (2.0, 2.0), (5.0, 5.0) -> 64\n",
    "mle + map (0.1, 0.1), (0.2, 0.2), (0.3, 0.3), (0.5, 0.5), (1.0, 1.0), (2.0, 2.0), (5.0, 5.0) -> 56\n",
    "mle + map (0.1, 0.1), (0.5, 0.5), (1.0, 1.0), (2.0, 2.0), (5.0, 5.0) -> 56"
   ]
  },
  {
   "cell_type": "code",
   "execution_count": null,
   "metadata": {},
   "outputs": [],
   "source": []
  }
 ]
}